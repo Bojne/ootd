{
 "cells": [
  {
   "cell_type": "code",
   "execution_count": 125,
   "metadata": {},
   "outputs": [],
   "source": [
    "import requests\n",
    "import re\n",
    "import json\n"
   ]
  },
  {
   "cell_type": "code",
   "execution_count": 76,
   "metadata": {},
   "outputs": [
    {
     "data": {
      "text/plain": [
       "200"
      ]
     },
     "execution_count": 76,
     "metadata": {},
     "output_type": "execute_result"
    }
   ],
   "source": [
    "# res = requests.get('https://www.instagram.com/ootd_introducer/')\n",
    "res.status_code"
   ]
  },
  {
   "cell_type": "code",
   "execution_count": 123,
   "metadata": {},
   "outputs": [],
   "source": [
    "def get_post_link_from_page(url = 'https://www.instagram.com/ootd_introducer/'):\n",
    "    print('Retriveing from {}'.format(url))\n",
    "    res = requests.get(url)\n",
    "    if res.status_code != 200:\n",
    "        return(\"Error in the link\")\n",
    "    else:\n",
    "        ls = re.findall(r\"shortcode\\\":\\\"...........\\\"\", res.text)\n",
    "        return (list(map(lambda x: \"link: 'https://www.instagram.com/p/{}'\".format(x[12:-1]), ls)))"
   ]
  },
  {
   "cell_type": "code",
   "execution_count": null,
   "metadata": {},
   "outputs": [],
   "source": [
    "Link = [\n",
    "    'https://www.instagram.com/g__ootd',\n",
    "    'https://www.instagram.com/ootd_introducer/',\n",
    "    'https://www.instagram.com/urban__hunt/',\n",
    "]"
   ]
  },
  {
   "cell_type": "code",
   "execution_count": 145,
   "metadata": {
    "scrolled": false
   },
   "outputs": [
    {
     "name": "stdout",
     "output_type": "stream",
     "text": [
      "Retriveing from https://www.instagram.com/g__ootd/\n"
     ]
    }
   ],
   "source": [
    "obj = get_post_link_from_page('https://www.instagram.com/g__ootd/')"
   ]
  },
  {
   "cell_type": "code",
   "execution_count": 146,
   "metadata": {},
   "outputs": [
    {
     "data": {
      "text/plain": [
       "[\"link: 'https://www.instagram.com/p/B3uAONDH4OD'\",\n",
       " \"link: 'https://www.instagram.com/p/B3t2mYUnACx'\",\n",
       " \"link: 'https://www.instagram.com/p/B3tt_iiHG8P'\",\n",
       " \"link: 'https://www.instagram.com/p/B3ttlUvnGrN'\",\n",
       " \"link: 'https://www.instagram.com/p/B3te14Hng3M'\",\n",
       " \"link: 'https://www.instagram.com/p/B3tMLz_nYlo'\",\n",
       " \"link: 'https://www.instagram.com/p/B3rOSRFHRvq'\",\n",
       " \"link: 'https://www.instagram.com/p/B3q6UsFH3Rx'\",\n",
       " \"link: 'https://www.instagram.com/p/B3o2d4fnrui'\",\n",
       " \"link: 'https://www.instagram.com/p/B3oSnHknjBx'\",\n",
       " \"link: 'https://www.instagram.com/p/B3l99DqHI2C'\",\n",
       " \"link: 'https://www.instagram.com/p/B3lvmTwnU_z'\"]"
      ]
     },
     "execution_count": 146,
     "metadata": {},
     "output_type": "execute_result"
    }
   ],
   "source": [
    "obj"
   ]
  },
  {
   "cell_type": "code",
   "execution_count": 132,
   "metadata": {},
   "outputs": [
    {
     "ename": "NameError",
     "evalue": "name 'link' is not defined",
     "output_type": "error",
     "traceback": [
      "\u001b[0;31m---------------------------------------------------------------------------\u001b[0m",
      "\u001b[0;31mNameError\u001b[0m                                 Traceback (most recent call last)",
      "\u001b[0;32m<ipython-input-132-bc636d8905c2>\u001b[0m in \u001b[0;36m<module>\u001b[0;34m\u001b[0m\n\u001b[0;32m----> 1\u001b[0;31m \u001b[0;34m{\u001b[0m\u001b[0;34m{\u001b[0m \u001b[0mobj\u001b[0m\u001b[0;34m|\u001b[0m\u001b[0mlink\u001b[0m \u001b[0;34m}\u001b[0m\u001b[0;34m}\u001b[0m\u001b[0;34m\u001b[0m\u001b[0;34m\u001b[0m\u001b[0m\n\u001b[0m",
      "\u001b[0;31mNameError\u001b[0m: name 'link' is not defined"
     ]
    }
   ],
   "source": [
    "{{ obj|link }} "
   ]
  },
  {
   "cell_type": "code",
   "execution_count": null,
   "metadata": {},
   "outputs": [],
   "source": []
  }
 ],
 "metadata": {
  "kernelspec": {
   "display_name": "Python 3",
   "language": "python",
   "name": "python3"
  },
  "language_info": {
   "codemirror_mode": {
    "name": "ipython",
    "version": 3
   },
   "file_extension": ".py",
   "mimetype": "text/x-python",
   "name": "python",
   "nbconvert_exporter": "python",
   "pygments_lexer": "ipython3",
   "version": "3.7.1"
  }
 },
 "nbformat": 4,
 "nbformat_minor": 2
}
