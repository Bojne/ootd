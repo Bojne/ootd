{
 "cells": [
  {
   "cell_type": "code",
   "execution_count": 7,
   "metadata": {},
   "outputs": [],
   "source": [
    "import requests\n",
    "import re\n",
    "import json\n",
    "\n",
    "Link = [\n",
    "    'https://www.instagram.com/g__ootd',\n",
    "    'https://www.instagram.com/ootd_introducer/',\n",
    "    'https://www.instagram.com/urban__hunt/',\n",
    "]"
   ]
  },
  {
   "cell_type": "code",
   "execution_count": 5,
   "metadata": {},
   "outputs": [],
   "source": [
    "def get_post_link_from_page(url = 'https://www.instagram.com/ootd_introducer/'):\n",
    "    print('Retriveing from {}'.format(url))\n",
    "    res = requests.get(url)\n",
    "    if res.status_code != 200:\n",
    "        return(\"Error in the link\")\n",
    "    else:\n",
    "        ls = re.findall(r\"shortcode\\\":\\\"...........\\\"\", res.text)\n",
    "        return (list(map(lambda x: \"link: 'https://www.instagram.com/p/{}'\".format(x[12:-1]), ls)))"
   ]
  },
  {
   "cell_type": "code",
   "execution_count": 9,
   "metadata": {
    "scrolled": false
   },
   "outputs": [
    {
     "name": "stdout",
     "output_type": "stream",
     "text": [
      "Retriveing from https://www.instagram.com/g__ootd\n",
      "[\"link: 'https://www.instagram.com/p/B31dz6eHYz_'\", \"link: 'https://www.instagram.com/p/B31Tt_CHY5d'\", \"link: 'https://www.instagram.com/p/B3y63CqHKu3'\", \"link: 'https://www.instagram.com/p/B3yph6CH4Ix'\", \"link: 'https://www.instagram.com/p/B3wybfCnwzr'\", \"link: 'https://www.instagram.com/p/B3wVahyn0hy'\", \"link: 'https://www.instagram.com/p/B3uAONDH4OD'\", \"link: 'https://www.instagram.com/p/B3t2mYUnACx'\", \"link: 'https://www.instagram.com/p/B3tt_iiHG8P'\", \"link: 'https://www.instagram.com/p/B3ttlUvnGrN'\", \"link: 'https://www.instagram.com/p/B3te14Hng3M'\", \"link: 'https://www.instagram.com/p/B3tMLz_nYlo'\"]\n",
      "Retriveing from https://www.instagram.com/ootd_introducer/\n",
      "[\"link: 'https://www.instagram.com/p/B310fJ8nEk6'\", \"link: 'https://www.instagram.com/p/B31fMa1H4Qz'\", \"link: 'https://www.instagram.com/p/B30yCq3H6Bu'\", \"link: 'https://www.instagram.com/p/B3zQPLMHkAa'\", \"link: 'https://www.instagram.com/p/B3zBzAanmSH'\", \"link: 'https://www.instagram.com/p/B3yOA4fn7CB'\", \"link: 'https://www.instagram.com/p/B3ws6RXnXcc'\", \"link: 'https://www.instagram.com/p/B3wP3p6ns1R'\", \"link: 'https://www.instagram.com/p/B3vlzkGHQUP'\", \"link: 'https://www.instagram.com/p/B3uHNpAnMKa'\", \"link: 'https://www.instagram.com/p/B3trzHPnUG7'\", \"link: 'https://www.instagram.com/p/B3tBJh-HU9A'\"]\n",
      "Retriveing from https://www.instagram.com/urban__hunt/\n",
      "[\"link: 'https://www.instagram.com/p/B31vS7-AMcz'\", \"link: 'https://www.instagram.com/p/B3y8qlfAebf'\", \"link: 'https://www.instagram.com/p/B3wQngMgl_4'\", \"link: 'https://www.instagram.com/p/B3txEARAcSI'\", \"link: 'https://www.instagram.com/p/B3o0K1CA5Ld'\", \"link: 'https://www.instagram.com/p/B3hh9rsAb0D'\", \"link: 'https://www.instagram.com/p/B3e0Yjggasv'\", \"link: 'https://www.instagram.com/p/B3cG_MEAPFU'\", \"link: 'https://www.instagram.com/p/B3ZEkw6goxS'\", \"link: 'https://www.instagram.com/p/B3WqTHbgvPY'\", \"link: 'https://www.instagram.com/p/B3T3BKaAXUd'\", \"link: 'https://www.instagram.com/p/B3R9hV3ABpm'\"]\n"
     ]
    }
   ],
   "source": [
    "obj = []\n",
    "for i in Link: \n",
    "    obj = get_post_link_from_page(i)\n",
    "    print(obj)"
   ]
  },
  {
   "cell_type": "code",
   "execution_count": 146,
   "metadata": {},
   "outputs": [
    {
     "data": {
      "text/plain": [
       "[\"link: 'https://www.instagram.com/p/B3uAONDH4OD'\",\n",
       " \"link: 'https://www.instagram.com/p/B3t2mYUnACx'\",\n",
       " \"link: 'https://www.instagram.com/p/B3tt_iiHG8P'\",\n",
       " \"link: 'https://www.instagram.com/p/B3ttlUvnGrN'\",\n",
       " \"link: 'https://www.instagram.com/p/B3te14Hng3M'\",\n",
       " \"link: 'https://www.instagram.com/p/B3tMLz_nYlo'\",\n",
       " \"link: 'https://www.instagram.com/p/B3rOSRFHRvq'\",\n",
       " \"link: 'https://www.instagram.com/p/B3q6UsFH3Rx'\",\n",
       " \"link: 'https://www.instagram.com/p/B3o2d4fnrui'\",\n",
       " \"link: 'https://www.instagram.com/p/B3oSnHknjBx'\",\n",
       " \"link: 'https://www.instagram.com/p/B3l99DqHI2C'\",\n",
       " \"link: 'https://www.instagram.com/p/B3lvmTwnU_z'\"]"
      ]
     },
     "execution_count": 146,
     "metadata": {},
     "output_type": "execute_result"
    }
   ],
   "source": [
    "obj"
   ]
  },
  {
   "cell_type": "code",
   "execution_count": 132,
   "metadata": {},
   "outputs": [
    {
     "ename": "NameError",
     "evalue": "name 'link' is not defined",
     "output_type": "error",
     "traceback": [
      "\u001b[0;31m---------------------------------------------------------------------------\u001b[0m",
      "\u001b[0;31mNameError\u001b[0m                                 Traceback (most recent call last)",
      "\u001b[0;32m<ipython-input-132-bc636d8905c2>\u001b[0m in \u001b[0;36m<module>\u001b[0;34m\u001b[0m\n\u001b[0;32m----> 1\u001b[0;31m \u001b[0;34m{\u001b[0m\u001b[0;34m{\u001b[0m \u001b[0mobj\u001b[0m\u001b[0;34m|\u001b[0m\u001b[0mlink\u001b[0m \u001b[0;34m}\u001b[0m\u001b[0;34m}\u001b[0m\u001b[0;34m\u001b[0m\u001b[0;34m\u001b[0m\u001b[0m\n\u001b[0m",
      "\u001b[0;31mNameError\u001b[0m: name 'link' is not defined"
     ]
    }
   ],
   "source": [
    "{{ obj|link }} "
   ]
  },
  {
   "cell_type": "code",
   "execution_count": null,
   "metadata": {},
   "outputs": [],
   "source": []
  }
 ],
 "metadata": {
  "kernelspec": {
   "display_name": "Python 3",
   "language": "python",
   "name": "python3"
  },
  "language_info": {
   "codemirror_mode": {
    "name": "ipython",
    "version": 3
   },
   "file_extension": ".py",
   "mimetype": "text/x-python",
   "name": "python",
   "nbconvert_exporter": "python",
   "pygments_lexer": "ipython3",
   "version": "3.7.1"
  }
 },
 "nbformat": 4,
 "nbformat_minor": 2
}
